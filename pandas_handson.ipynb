{
 "cells": [
  {
   "cell_type": "markdown",
   "metadata": {},
   "source": [
    "# Pythonで面倒なExcelの仕事を自動化しよう\n",
    "# 一瞬で仕事がおわるプログラミング活用術"
   ]
  },
  {
   "cell_type": "markdown",
   "metadata": {},
   "source": [
    "Excelでの単純作業を面倒だと感じたことはありませんか？\n",
    "\n",
    "私はプログラミングを覚える前、Excelでの単純作業を毎日繰り返していました。\n",
    "\n",
    "例えば、上司へのレポートを作るため毎日1時間かけて作業をしていました。1年間だと200時間以上です。\n",
    "\n",
    "200時間以上あれば、もっと成果を出せる仕事に集中できたり、早く帰宅して自分のやりたいことに集中できたはずです。\n",
    "\n",
    "皆さんも、そんな単純作業に頭を抱えていませんか？\n",
    "\n",
    "Pythonでは、色々なことを自動化することができます。\n",
    "\n",
    "したがって、そのExcelでの単純作業は、プログラミングのPythonで自動化できるかもしれません。\n",
    "\n",
    "プログラミングを1度書いてしまえば、ほんの一瞬で作業が終わります。"
   ]
  },
  {
   "cell_type": "markdown",
   "metadata": {},
   "source": [
    "## Excelファイルの説明"
   ]
  },
  {
   "cell_type": "markdown",
   "metadata": {},
   "source": [
    "まず、このレッスンで使うExcelの説明をします。\n",
    "\n",
    "エクセルのファイル名は、sales_mgmt.xlsxです。\n",
    "\n",
    "このファイルには、シートが3つあります。\n",
    "\n",
    "予実管理表、売上管理表、発注管理表です。"
   ]
  },
  {
   "cell_type": "markdown",
   "metadata": {},
   "source": [
    "## 具体的なケース"
   ]
  },
  {
   "cell_type": "markdown",
   "metadata": {},
   "source": [
    "これらはどのように仕事で使っているのでしょうか？\n",
    "\n",
    "例えば、こういったケースをイメージしてください。\n",
    "\n",
    "複数の店舗を運営しているアパレル会社Aがあったとします。\n",
    "\n",
    "会社Aの発注担当者は、毎日定時に「発注管理表」を確認し、取引先ごとエクセルファイルを分割して、メールで発注しています。\n",
    "\n",
    "しかし、この発注業務は、面倒だし、作業時間がかかっています。また、作業ミスが発生してしまうこともありました。\n",
    "\n",
    "もし、毎日の発注業務を自動化できたら、毎月どれくらいの時間を減らすことができるでしょうか。\n",
    "\n",
    "例えば、1日1時間かかっているとしたら、月20時間くらいは減らすことができます。\n",
    "\n",
    "そうすると、他の業務ができたり、早く帰れたり、有給を取得したりできますね。\n",
    "\n",
    "この面倒な作業はすべてPythonにやってもらいましょう。\n",
    "\n",
    "Pythonでコーディングし、実際に動作させてみます。"
   ]
  },
  {
   "cell_type": "markdown",
   "metadata": {},
   "source": [
    "## ライブラリのインストール"
   ]
  },
  {
   "cell_type": "markdown",
   "metadata": {},
   "source": [
    "はじめに、ライブラリをインストールしていきます。\n",
    "\n",
    "ライブラリとはなんでしょうか？\n",
    "\n",
    "ライブラリとは、よく使う機能・関数をまとめて、簡単に使えるようにしたものです。\n",
    "\n",
    "例えば、あとから説明するPandasというライブラリには、csvファイルやExcelファイルを読み取るための機能や、データを表にする機能、グラフにする機能など、データ分析の際によく使う機能がまとめられています。\n",
    "\n",
    "JupyterLabでライブラリをインストールする場合は、以下のように書きます。\n",
    "\n",
    "「!pip install ラブラリ名」\n",
    "\n",
    "また、オフライン環境でインストールする場合は、以下のようにwhlファイルを指定します。\n",
    "\n",
    "「!pip install --no-deps ファイル名」\n",
    "\n",
    "以下のセルを実行して、このレッスンで使用するライブラリをインストールしましょう。"
   ]
  },
  {
   "cell_type": "code",
   "execution_count": null,
   "metadata": {},
   "outputs": [],
   "source": [
    "!pip install --no-deps numpy-1.24.1-cp311-cp311-win_amd64.whl\n",
    "!pip install --no-deps pandas-1.5.2-cp311-cp311-win_amd64.whl"
   ]
  },
  {
   "cell_type": "markdown",
   "metadata": {},
   "source": [
    "## データ解析を支援するPandas"
   ]
  },
  {
   "cell_type": "markdown",
   "metadata": {},
   "source": [
    "Pandasは、データ解析を支援するための機能を提供するライブラリです。\n",
    "\n",
    "Pandasには、PythonでExcelやcsv操作、グラフ化、人工知能の開発で大切なデータの集計や加工などの機能が入っています。\n",
    "\n",
    "Pandasで扱うデータ構造としてよく使うもので、「Series」と「Dataframe」があります。\n",
    "\n",
    "1次元のデータを扱うときは「Series」、2次元のデータを扱うときは「Dataframe」を使用します。\n",
    "\n",
    "つまり、1列だと「Series」、2列以上だと「Dataframe」です。"
   ]
  },
  {
   "cell_type": "markdown",
   "metadata": {},
   "source": [
    "## ライブラリのインポート"
   ]
  },
  {
   "cell_type": "markdown",
   "metadata": {},
   "source": [
    "ライブラリはインストールしただけでは使用できないため、プログラム内でインポートする必要があります。\n",
    "\n",
    "インポートの際は「import ライブラリ名」と書きます。\n",
    "\n",
    "また、importの際にasを付けると、ライブラリに好きな名前を付けることができます。\n",
    "\n",
    "通例として、pandasはpdと省略します。\n",
    "\n",
    "以下のセルを実行して、このレッスンで使用するライブラリをインポートしましょう。"
   ]
  },
  {
   "cell_type": "code",
   "execution_count": null,
   "metadata": {},
   "outputs": [],
   "source": [
    "import pandas as pd\n",
    "import os"
   ]
  },
  {
   "cell_type": "markdown",
   "metadata": {},
   "source": [
    "## ファイルやディレクトリに関する操作を行うos"
   ]
  },
  {
   "cell_type": "markdown",
   "metadata": {},
   "source": [
    "osは、WindowsやMacなどのOSが行う操作を、Pythonで行うためのライブラリです。\n",
    "\n",
    "Windowsの区切り文字は「\\」や「¥」ですが、MacやLinuxでは「/」です。\n",
    "こうした環境による違いを吸収して、適切なファイルパスを生成するために使用します。"
   ]
  },
  {
   "cell_type": "markdown",
   "metadata": {},
   "source": [
    "## ファイルパスの設定"
   ]
  },
  {
   "cell_type": "markdown",
   "metadata": {},
   "source": [
    "次に、読み取るエクセルファイルの場所やシート名を、変数に代入していきましょう。\n",
    "\n",
    "そうすることにより、後日使う時に、ここだけ編集すれば良いことになり楽です。\n",
    "\n",
    "エクセルファイルが置いてある場所を記述しましょう。\n",
    "\n",
    "変数名は、ファイルを取り込む場所という意味で「import_file_path」にします。\n",
    "\n",
    "ファイルの場所とファイル名を調べるには、Jupyter Labのサイドバーで表示されているファイルを右クリック。「パスをコピー」をクリックしてペーストすればわかります。\n",
    "\n",
    "これをシングルクォーテーションでくくればよいです。\n",
    "\n",
    "次に、シート名を変数に格納します。\n",
    "\n",
    "変数名は、Excelのシート名として、「excel_sheet_name」にします。\n",
    "\n",
    "変数にシート名の「発注管理表」を記述します。\n",
    "\n",
    "次に、取引先ごとに分割したファイルを書き出す場所を記述します。\n",
    "\n",
    "変数名は、出力したファイルを置く場所という意味で「export_file_path」にします。"
   ]
  },
  {
   "cell_type": "code",
   "execution_count": null,
   "metadata": {
    "tags": []
   },
   "outputs": [],
   "source": [
    "import_file_path = 'sales_mgmt.xlsx'\n",
    "excel_sheet_name = '発注管理表'\n",
    "export_file_path = 'output'"
   ]
  },
  {
   "cell_type": "markdown",
   "metadata": {},
   "source": [
    "## Excelファイルを読み込むread_excel関数"
   ]
  },
  {
   "cell_type": "markdown",
   "metadata": {},
   "source": [
    "次に、「pandas」を使って、Excelファイルの内容を読み込みます。\n",
    "\n",
    "Excelファイルの内容を読み込むのは、pandasのread_excel関数でできます。\n",
    "\n",
    "その読み取ったデータを格納する変数を定義していきましょう。\n",
    "\n",
    "read_excel関数を使うと、「Dataframe」というデータ構造で取得するため、「df」とします。\n",
    "\n",
    "次に、アンダースコアを書きます。\n",
    "\n",
    "最後に、発注という意味の「order」を書きます。\n",
    "\n",
    "次に、「pandas」を使って、Excelファイルの内容を読み込む記述を書きます。\n",
    "\n",
    "「import pandas as pd」で「pandas」の名前を「pd」としたため、「pd」と書きます。\n",
    "\n",
    "次に、ドットを書いて、「read_excel」を書きます。\n",
    "\n",
    "これが先ほど説明したread_excelで、これでExcelファイルを読み込むことができます。\n",
    "\n",
    "次に、丸括弧を書きます。\n",
    "\n",
    "丸括弧の中には、引数を記述します。\n",
    "\n",
    "例えば、ファイルの場所とファイル名、他には読み取るシート名を記述します。\n",
    "\n",
    "まず最初に、ファイルの場所とファイル名を記述しましょう。\n",
    "\n",
    "先ほど「import_file_path」という変数にファイル名と場所を記述したので、この変数を記述。\n",
    "\n",
    "次に、カンマを書いて、シート名を記述します。\n",
    "\n",
    "シート名は先ほどexcel_sheet_nameという変数に代入しました。\n",
    "\n",
    "sheet_nameという引数にイコールで、excel_sheet_nameを代入しましょう。\n",
    "\n",
    "これで、Excelファイルの内容を読み込む記述が完了しました。"
   ]
  },
  {
   "cell_type": "code",
   "execution_count": null,
   "metadata": {},
   "outputs": [],
   "source": [
    "df_order = pd.read_excel(import_file_path, sheet_name = excel_sheet_name)"
   ]
  },
  {
   "cell_type": "markdown",
   "metadata": {},
   "source": [
    "次に、変数「df_order」を書いて、中身を確認してみます。\n",
    "\n",
    "では、実行してみましょう。"
   ]
  },
  {
   "cell_type": "code",
   "execution_count": null,
   "metadata": {},
   "outputs": [],
   "source": [
    "df_order"
   ]
  },
  {
   "cell_type": "markdown",
   "metadata": {},
   "source": [
    "「発注管理表」シートの内容が読み込まれています。"
   ]
  },
  {
   "cell_type": "markdown",
   "metadata": {},
   "source": [
    "## ユニーク（重複をなくす）するunique関数"
   ]
  },
  {
   "cell_type": "markdown",
   "metadata": {},
   "source": [
    "読み込んだデータの列に会社名があります。\n",
    "\n",
    "会社名には、「株式会社A」と「株式会社A」のように重複する名前があります。\n",
    "\n",
    "重複する名前を除いた会社名一覧を取得してみましょう。\n",
    "\n",
    "会社名一覧という意味の変数「company_name_lists」を定義します。\n",
    "\n",
    "次に、「df_order」を書いて、角括弧を書きます。\n",
    "\n",
    "角括弧の中に、シングルクォーテーションを書いて、列名を書きます。\n",
    "\n",
    "取得したいのは会社名なので、'会社名'を書きます。\n",
    "\n",
    "これで、先ほど確認したデータの、「会社名」の列だけを対象とすることができます。\n",
    "\n",
    "次に、カンマを書いて、ユニーク関数（unique()）を書きます。\n",
    "\n",
    "これで、重複を除く会社名一覧が取得できました。"
   ]
  },
  {
   "cell_type": "code",
   "execution_count": null,
   "metadata": {},
   "outputs": [],
   "source": [
    "company_name_lists = df_order['会社名'].unique()"
   ]
  },
  {
   "cell_type": "markdown",
   "metadata": {},
   "source": [
    "company_name_listsを書いて、確認してみましょう。"
   ]
  },
  {
   "cell_type": "code",
   "execution_count": null,
   "metadata": {},
   "outputs": [],
   "source": [
    "company_name_lists"
   ]
  },
  {
   "cell_type": "markdown",
   "metadata": {},
   "source": [
    "重複を除く会社名を取得できました。"
   ]
  },
  {
   "cell_type": "markdown",
   "metadata": {},
   "source": [
    "ちなみに、先ほどとデータの構造が違います。\n",
    "\n",
    "type関数を使って、データ型を確認してみましょう。"
   ]
  },
  {
   "cell_type": "code",
   "execution_count": null,
   "metadata": {},
   "outputs": [],
   "source": [
    "type(company_name_lists)"
   ]
  },
  {
   "cell_type": "markdown",
   "metadata": {},
   "source": [
    "numpy.ndarrayは、NumPyというライブラリの配列ということになります。"
   ]
  },
  {
   "cell_type": "markdown",
   "metadata": {},
   "source": [
    "比較として、df_orderのデータ型も確認してみましょう。"
   ]
  },
  {
   "cell_type": "code",
   "execution_count": null,
   "metadata": {},
   "outputs": [],
   "source": [
    "type(df_order)"
   ]
  },
  {
   "cell_type": "markdown",
   "metadata": {},
   "source": [
    "DataFrameとなっています。\n",
    "\n",
    "つまり、データフレームからユニーク関数を使って列を取得すると、データ型が変わると覚えておきましょう。"
   ]
  },
  {
   "cell_type": "markdown",
   "metadata": {},
   "source": [
    "## ファイル分割"
   ]
  },
  {
   "cell_type": "markdown",
   "metadata": {},
   "source": [
    "それでは、会社名ごとのデータに分割してみましょう。\n",
    "\n",
    "試しに、株式会社Aだけのデータを取得してみます。\n",
    "\n",
    "df_orderの会社名というカラムの中で、株式会社Aだけ一致するものを取得してみましょう。\n",
    "\n",
    "この場合は、df_orderのあとに角括弧。角括弧の中にシングルクオテーション。「会社名」と記述します。\n",
    "\n",
    "そして、株式会社Aだけを取得したいので、イコールを2つ書いて株式会社Aとします。\n",
    "\n",
    "そうすると、一致する行はTrue、一致しない行はFlaseが配置された、真理値の一覧が返ってきます。"
   ]
  },
  {
   "cell_type": "code",
   "execution_count": null,
   "metadata": {},
   "outputs": [],
   "source": [
    "df_order['会社名'] == '株式会社A'"
   ]
  },
  {
   "cell_type": "markdown",
   "metadata": {},
   "source": [
    "Pandasでは、この真理値一覧をそのままdf_orderの角括弧の中に記述でき、\n",
    "Trueに該当する行だけを抽出することができます。\n",
    "\n",
    "実行してみましょう。"
   ]
  },
  {
   "cell_type": "code",
   "execution_count": null,
   "metadata": {},
   "outputs": [],
   "source": [
    "df_order[df_order['会社名'] == '株式会社A']"
   ]
  },
  {
   "cell_type": "markdown",
   "metadata": {},
   "source": [
    "株式会社Aだけが抽出されました。"
   ]
  },
  {
   "cell_type": "markdown",
   "metadata": {},
   "source": [
    "この方法にfor文を組み合わせて、会社名ごとにデータを分割していきましょう。\n",
    "\n",
    "まず、「for」と書いて、会社名を1つずつ取り出すための変数「company_name」を書きます。\n",
    "\n",
    "次に、「in」を書い、会社名一覧が保存された「company_name_lists」を書きます。\n",
    "\n",
    "最後に、コロンを書きます。\n",
    "\n",
    "こうすることで、先ほど取得したcompany_name_listsの内容が、先頭から順にcompany_nameに代入されていきます。\n",
    "\n",
    "printで表示させてみましょう。"
   ]
  },
  {
   "cell_type": "code",
   "execution_count": null,
   "metadata": {
    "tags": []
   },
   "outputs": [],
   "source": [
    "for company_name in company_name_lists:\n",
    "    print(company_name)"
   ]
  },
  {
   "cell_type": "markdown",
   "metadata": {},
   "source": [
    "会社名を1つずつ取得できました。"
   ]
  },
  {
   "cell_type": "markdown",
   "metadata": {},
   "source": [
    "次は、for文の中身を書き換えて、会社名ごとに発注データをエクスポートしていきましょう。\n",
    "\n",
    "まず、変数を書きます。\n",
    "\n",
    "変数名は、会社ごとの発注として「df_order_company」とします。\n",
    "\n",
    "次に、読み込んだデータを会社ごとに分けます。\n",
    "\n",
    "df_orderから、'会社名'の列がcompany_nameと一致する行だけを抽出したいので、\n",
    "\n",
    "角括弧の中にdf_order['会社名'] == company_nameと書きます。\n",
    "\n",
    "そしてprint関数を使って、変数の中身をみていきましょう。"
   ]
  },
  {
   "cell_type": "code",
   "execution_count": null,
   "metadata": {
    "tags": []
   },
   "outputs": [],
   "source": [
    "for company_name in company_name_lists:\n",
    "    df_order_company = df_order[df_order['会社名'] == company_name]\n",
    "    print(df_order_company)"
   ]
  },
  {
   "cell_type": "markdown",
   "metadata": {},
   "source": [
    "会社名ごとにデータが分かれていることが確認できます。"
   ]
  },
  {
   "cell_type": "markdown",
   "metadata": {},
   "source": [
    "最後に、会社ごとに分けたデータを、printで画面に表示する代わりに、ファイルに出力します。\n",
    "\n",
    "Pandasのデータをエクセルファイルとして出力するためには、to_excelメソッドを使用します。\n",
    "\n",
    "引数には、保存するエクセルファイルの名前を指定します。\n",
    "\n",
    "会社名ごとにファイルを作成したいので、ファイル名にはcompany_nameを使用しましょう。\n",
    "\n",
    "パスと結合する際は、OSによって区切り文字が異なる可能性があるため、os.path.joinを使用して、影響を回避しましょう。\n",
    "\n",
    "なお、拡張子の.xlsxは単純に文字列を結合するだけで大丈夫です。\n",
    "\n",
    "これで記述はおわりです。\n",
    "\n",
    "それでは、実行してみましょう。"
   ]
  },
  {
   "cell_type": "code",
   "execution_count": null,
   "metadata": {},
   "outputs": [],
   "source": [
    "for company_name in company_name_lists:\n",
    "    df_order_company = df_order[df_order['会社名'] == company_name]\n",
    "    df_order_company.to_excel(os.path.join(export_file_path, company_name) + '.xlsx')"
   ]
  },
  {
   "cell_type": "markdown",
   "metadata": {},
   "source": [
    "ファイルが作成されています。\n",
    "\n",
    "ファイルの中身も確認してみましょう。\n",
    "\n",
    "会社ごとのデータが書き込まれています。"
   ]
  },
  {
   "cell_type": "markdown",
   "metadata": {},
   "source": [
    "## Pythonファイルへの変換"
   ]
  },
  {
   "cell_type": "markdown",
   "metadata": {},
   "source": [
    "これをpythonファイルに変換して実行をすると、今の作業が1秒で終わります。\n",
    "\n",
    "やってみましょう。\n",
    "\n",
    "Jupyter Labの「ファイル」メニューから「名前を付けてNotebookをエキスポート...」の中の「実行可能なスクリプト」を選んでクリックします。\n",
    "\n",
    "拡張子が「.py」のプログラムファイルとして出力されるので、Notebookと同じフォルダに配置しましょう。\n",
    "\n",
    "プログラムの中身を見ると、このノートブックの内容がそのまま出力されています。\n",
    "\n",
    "「!pip～」の部分が「get_ipython().system(!pip～」と変換されていますが、このままでは実行できないので、コメントアウトしておきましょう。"
   ]
  },
  {
   "cell_type": "code",
   "execution_count": null,
   "metadata": {},
   "outputs": [],
   "source": [
    "# get_ipython().system('pip install --no-deps numpy-1.24.1-cp311-cp311-win_amd64.whl')\n",
    "# get_ipython().system('pip install --no-deps pandas-1.5.2-cp311-cp311-win_amd64.whl')"
   ]
  },
  {
   "cell_type": "markdown",
   "metadata": {},
   "source": [
    "先程出力したエクセルファイルを削除して、あらためて出力し直してみましょう。\n",
    "\n",
    "拡張子が「.py」のプログラムファイルは、PythonがインストールされたPCなら、ダブルクリックするだけ実行できます。\n",
    "\n",
    "実行後にoutputフォルダの中身を確認してみましょう。\n",
    "\n",
    "1秒も経たないうちにファイルが作成されましたね。"
   ]
  },
  {
   "cell_type": "markdown",
   "metadata": {},
   "source": [
    "## まとめ"
   ]
  },
  {
   "cell_type": "markdown",
   "metadata": {},
   "source": [
    "このように、Pythonで実行すると、圧倒的な業務効率化が可能です。\n",
    "\n",
    "また、毎日この作業をするとしたら、毎月どのぐらいの時間が短縮できるのでしょうか。\n",
    "\n",
    "仮に毎日30分かかっているとしたら、月10時間の時間削減です。時給換算すると数万円以上の経費削減です。\n",
    "\n",
    "また、ファイル内のデータを手動で選別するわけではないので、間違いが起こりません。\n",
    "\n",
    "間違いがなければ、取引先や上司や同僚にも迷惑がかかりません。\n",
    "\n",
    "今回のレッスンでは紹介しませんが、分割したファイルをメールで送るようにプログラムを組むと、自動的に発注することができます。\n",
    "\n",
    "さらに、毎日決まった時間になったら、プログラムを実行するように設定すると、何もしなくても発注できるようになります。\n",
    "\n",
    "ファイル分割、メール送信などの作業が1日1時間なら、年間200時間の時間削減です。約1か月分の労働時間になりますね。\n",
    "\n",
    "他にも、Pythonによるエクセル操作の方法はあります。\n",
    "\n",
    "ほぼ、できないことはないといっても過言ではないです。\n",
    "\n",
    "みなさんもPythonを勉強して、仕事の生産性をあげていきましょう。"
   ]
  }
 ],
 "metadata": {
  "kernelspec": {
   "display_name": "Python 3 (ipykernel)",
   "language": "python",
   "name": "python3"
  },
  "language_info": {
   "codemirror_mode": {
    "name": "ipython",
    "version": 3
   },
   "file_extension": ".py",
   "mimetype": "text/x-python",
   "name": "python",
   "nbconvert_exporter": "python",
   "pygments_lexer": "ipython3",
   "version": "3.11.1"
  }
 },
 "nbformat": 4,
 "nbformat_minor": 4
}
